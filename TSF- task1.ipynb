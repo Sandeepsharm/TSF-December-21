{
 "cells": [
  {
   "cell_type": "markdown",
   "id": "a9ddc62a",
   "metadata": {},
   "source": [
    "# THE SPARKS FOUNDATION\n",
    "\n",
    "# DATA SCIENCE AND BUSSINESS ANALYTICS INTERNSHIP\n",
    "\n",
    "# BATCH: GRIP DECEMBER'21\n",
    "    \n",
    "## Task 1- Prediction using supervised machine learning\n",
    "## Predict the student percentage on the basis of study hours. \n",
    "\n",
    "## Submitted by: Sandeep Sharma"
   ]
  },
  {
   "cell_type": "markdown",
   "id": "18c06aa1",
   "metadata": {},
   "source": [
    "### Importing important libraries"
   ]
  },
  {
   "cell_type": "code",
   "execution_count": 3,
   "id": "d92d5556",
   "metadata": {},
   "outputs": [],
   "source": [
    "import pandas as pd\n",
    "import numpy as np\n",
    "import matplotlib.pyplot as plt  \n",
    "%matplotlib inline \n",
    "from sklearn.model_selection import train_test_split \n",
    "from sklearn.linear_model import LinearRegression  \n",
    "from sklearn import metrics "
   ]
  },
  {
   "cell_type": "markdown",
   "id": "e750be7d",
   "metadata": {},
   "source": [
    "### Reading data from url"
   ]
  },
  {
   "cell_type": "code",
   "execution_count": 4,
   "id": "3d2e99fa",
   "metadata": {},
   "outputs": [
    {
     "name": "stdout",
     "output_type": "stream",
     "text": [
      "Data imported successfully\n"
     ]
    }
   ],
   "source": [
    "url = \"http://bit.ly/w-data\"\n",
    "student_data = pd.read_csv(url)\n",
    "print(\"Data imported successfully\")"
   ]
  },
  {
   "cell_type": "code",
   "execution_count": 6,
   "id": "fca2f260",
   "metadata": {},
   "outputs": [
    {
     "data": {
      "text/html": [
       "<div>\n",
       "<style scoped>\n",
       "    .dataframe tbody tr th:only-of-type {\n",
       "        vertical-align: middle;\n",
       "    }\n",
       "\n",
       "    .dataframe tbody tr th {\n",
       "        vertical-align: top;\n",
       "    }\n",
       "\n",
       "    .dataframe thead th {\n",
       "        text-align: right;\n",
       "    }\n",
       "</style>\n",
       "<table border=\"1\" class=\"dataframe\">\n",
       "  <thead>\n",
       "    <tr style=\"text-align: right;\">\n",
       "      <th></th>\n",
       "      <th>Hours</th>\n",
       "      <th>Scores</th>\n",
       "    </tr>\n",
       "  </thead>\n",
       "  <tbody>\n",
       "    <tr>\n",
       "      <th>0</th>\n",
       "      <td>2.5</td>\n",
       "      <td>21</td>\n",
       "    </tr>\n",
       "    <tr>\n",
       "      <th>1</th>\n",
       "      <td>5.1</td>\n",
       "      <td>47</td>\n",
       "    </tr>\n",
       "    <tr>\n",
       "      <th>2</th>\n",
       "      <td>3.2</td>\n",
       "      <td>27</td>\n",
       "    </tr>\n",
       "    <tr>\n",
       "      <th>3</th>\n",
       "      <td>8.5</td>\n",
       "      <td>75</td>\n",
       "    </tr>\n",
       "    <tr>\n",
       "      <th>4</th>\n",
       "      <td>3.5</td>\n",
       "      <td>30</td>\n",
       "    </tr>\n",
       "    <tr>\n",
       "      <th>5</th>\n",
       "      <td>1.5</td>\n",
       "      <td>20</td>\n",
       "    </tr>\n",
       "    <tr>\n",
       "      <th>6</th>\n",
       "      <td>9.2</td>\n",
       "      <td>88</td>\n",
       "    </tr>\n",
       "    <tr>\n",
       "      <th>7</th>\n",
       "      <td>5.5</td>\n",
       "      <td>60</td>\n",
       "    </tr>\n",
       "    <tr>\n",
       "      <th>8</th>\n",
       "      <td>8.3</td>\n",
       "      <td>81</td>\n",
       "    </tr>\n",
       "    <tr>\n",
       "      <th>9</th>\n",
       "      <td>2.7</td>\n",
       "      <td>25</td>\n",
       "    </tr>\n",
       "  </tbody>\n",
       "</table>\n",
       "</div>"
      ],
      "text/plain": [
       "   Hours  Scores\n",
       "0    2.5      21\n",
       "1    5.1      47\n",
       "2    3.2      27\n",
       "3    8.5      75\n",
       "4    3.5      30\n",
       "5    1.5      20\n",
       "6    9.2      88\n",
       "7    5.5      60\n",
       "8    8.3      81\n",
       "9    2.7      25"
      ]
     },
     "execution_count": 6,
     "metadata": {},
     "output_type": "execute_result"
    }
   ],
   "source": [
    "student_data.head(10)"
   ]
  },
  {
   "cell_type": "markdown",
   "id": "26ac7e3c",
   "metadata": {},
   "source": [
    "### Now we will plot our data points on 2-D graph to see if any relationship in between our data."
   ]
  },
  {
   "cell_type": "code",
   "execution_count": 7,
   "id": "d62c6793",
   "metadata": {},
   "outputs": [
    {
     "data": {
      "image/png": "[encoded data removed]",
      "text/plain": [
       "<Figure size 432x288 with 1 Axes>"
      ]
     },
     "metadata": {
      "needs_background": "light"
     },
     "output_type": "display_data"
    }
   ],
   "source": [
    "student_data.plot(x='Hours', y='Scores',style=\"o\") \n",
    "\n",
    "# we can use markers to get more clear view when needed\n",
    "plt.title('Hours vs Percentage')  \n",
    "plt.xlabel('Hours Studied by student')  \n",
    "plt.ylabel('Percentage Scored By student')  \n",
    "plt.show()"
   ]
  },
  {
   "cell_type": "markdown",
   "id": "348d081b",
   "metadata": {},
   "source": [
    "### Now we will  divide data into \"Attributes\" (inputs) and \"Labels\" (outputs)."
   ]
  },
  {
   "cell_type": "code",
   "execution_count": 36,
   "id": "11d02f14",
   "metadata": {},
   "outputs": [],
   "source": [
    "# attribute means the inputs on which we are going to predict\n",
    "# label is what we are going to predict (percentage)\n",
    "\n",
    "X= student_data.iloc[:, :-1].values  \n",
    "Y= student_data.iloc[:, 1].values  "
   ]
  },
  {
   "cell_type": "code",
   "execution_count": 10,
   "id": "a1a2e198",
   "metadata": {},
   "outputs": [
    {
     "name": "stdout",
     "output_type": "stream",
     "text": [
      "[[2.5]\n",
      " [5.1]\n",
      " [3.2]\n",
      " [8.5]\n",
      " [3.5]\n",
      " [1.5]\n",
      " [9.2]\n",
      " [5.5]\n",
      " [8.3]\n",
      " [2.7]\n",
      " [7.7]\n",
      " [5.9]\n",
      " [4.5]\n",
      " [3.3]\n",
      " [1.1]\n",
      " [8.9]\n",
      " [2.5]\n",
      " [1.9]\n",
      " [6.1]\n",
      " [7.4]\n",
      " [2.7]\n",
      " [4.8]\n",
      " [3.8]\n",
      " [6.9]\n",
      " [7.8]]\n"
     ]
    }
   ],
   "source": [
    "#iloc is integer-location based indexing for selection by position.\n",
    "\n",
    "print(X)"
   ]
  },
  {
   "cell_type": "markdown",
   "id": "be258c55",
   "metadata": {},
   "source": [
    "### Unpacking "
   ]
  },
  {
   "cell_type": "code",
   "execution_count": 11,
   "id": "a0f81af0",
   "metadata": {},
   "outputs": [
    {
     "name": "stdout",
     "output_type": "stream",
     "text": [
      "[2.5] [5.1] [3.2] [8.5] [3.5] [1.5] [9.2] [5.5] [8.3] [2.7] [7.7] [5.9] [4.5] [3.3] [1.1] [8.9] [2.5] [1.9] [6.1] [7.4] [2.7] [4.8] [3.8] [6.9] [7.8]\n"
     ]
    }
   ],
   "source": [
    "print(*X)  "
   ]
  },
  {
   "cell_type": "code",
   "execution_count": 12,
   "id": "05e51b66",
   "metadata": {},
   "outputs": [
    {
     "name": "stdout",
     "output_type": "stream",
     "text": [
      "[21 47 27 75 30 20 88 60 81 25 85 62 41 42 17 95 30 24 67 69 30 54 35 76\n",
      " 86]\n"
     ]
    }
   ],
   "source": [
    "print(Y)"
   ]
  },
  {
   "cell_type": "code",
   "execution_count": 26,
   "id": "c44f5083",
   "metadata": {},
   "outputs": [],
   "source": [
    "### using Scikit-Learn's built-in train_test_split() method\n",
    " \n",
    "X_train, X_test, y_train, y_test = train_test_split(X, Y, test_size=0.2) "
   ]
  },
  {
   "cell_type": "code",
   "execution_count": 27,
   "id": "d7eeb7bb",
   "metadata": {},
   "outputs": [
    {
     "name": "stdout",
     "output_type": "stream",
     "text": [
      "Training is completed\n"
     ]
    }
   ],
   "source": [
    "# TRAINING THE ALGORITHM\n",
    "# spliting students data into training and testing sets\n",
    "\n",
    "# using linear regression to predict the value of a X (independent variable) based on the value of Y(dependent)\n",
    "\n",
    "regressor_data = LinearRegression()  \n",
    "regressor_data.fit(X_train, y_train) \n",
    "\n",
    "print(\"Training is completed\")"
   ]
  },
  {
   "cell_type": "code",
   "execution_count": 28,
   "id": "53fd84f1",
   "metadata": {},
   "outputs": [],
   "source": [
    "# Plotting the regression line for further prediction\n",
    "\n",
    "line = regressor_data.coef_*X+regressor_data.intercept_\n"
   ]
  },
  {
   "cell_type": "code",
   "execution_count": 29,
   "id": "94b5bcc5",
   "metadata": {},
   "outputs": [
    {
     "data": {
      "image/png": "[encoded data removed]",
      "text/plain": [
       "<Figure size 432x288 with 1 Axes>"
      ]
     },
     "metadata": {
      "needs_background": "light"
     },
     "output_type": "display_data"
    }
   ],
   "source": [
    "# coef is the coefficients for the prediction of each targets\n",
    "# intercept will be the point where function crosses the y-axis.( mean value of Y when all X=0)\n",
    "# Plotting the test data using scatter plot\n",
    "\n",
    "plt.scatter(X, Y)\n",
    "plt.plot(X, line);\n",
    "plt.show()\n"
   ]
  },
  {
   "cell_type": "code",
   "execution_count": null,
   "id": "ed1ad230",
   "metadata": {},
   "outputs": [],
   "source": [
    "# After seeing this graph we can consider that datapoints are varying linearly so we can predict our results using linear model\n",
    "# it may cover all the data points."
   ]
  },
  {
   "cell_type": "code",
   "execution_count": 30,
   "id": "94aa3250",
   "metadata": {},
   "outputs": [
    {
     "name": "stdout",
     "output_type": "stream",
     "text": [
      "[[2.7]\n",
      " [7.8]\n",
      " [5.1]\n",
      " [1.5]\n",
      " [4.5]]\n"
     ]
    }
   ],
   "source": [
    "# Testing data\n",
    "\n",
    "print(X_test)"
   ]
  },
  {
   "cell_type": "code",
   "execution_count": 31,
   "id": "d9070d65",
   "metadata": {},
   "outputs": [
    {
     "data": {
      "text/plain": [
       "array([29.54503554, 78.50291029, 52.58403542, 18.02553559, 46.82428545])"
      ]
     },
     "execution_count": 31,
     "metadata": {},
     "output_type": "execute_result"
    }
   ],
   "source": [
    "## Predicting Scores\n",
    "predict_y= regressor_data.predict(X_test)\n",
    "predict_y"
   ]
  },
  {
   "cell_type": "code",
   "execution_count": 32,
   "id": "7e877c81",
   "metadata": {},
   "outputs": [
    {
     "data": {
      "text/html": [
       "<div>\n",
       "<style scoped>\n",
       "    .dataframe tbody tr th:only-of-type {\n",
       "        vertical-align: middle;\n",
       "    }\n",
       "\n",
       "    .dataframe tbody tr th {\n",
       "        vertical-align: top;\n",
       "    }\n",
       "\n",
       "    .dataframe thead th {\n",
       "        text-align: right;\n",
       "    }\n",
       "</style>\n",
       "<table border=\"1\" class=\"dataframe\">\n",
       "  <thead>\n",
       "    <tr style=\"text-align: right;\">\n",
       "      <th></th>\n",
       "      <th>Actual</th>\n",
       "      <th>Predicted</th>\n",
       "    </tr>\n",
       "  </thead>\n",
       "  <tbody>\n",
       "    <tr>\n",
       "      <th>0</th>\n",
       "      <td>25</td>\n",
       "      <td>29.545036</td>\n",
       "    </tr>\n",
       "    <tr>\n",
       "      <th>1</th>\n",
       "      <td>86</td>\n",
       "      <td>78.502910</td>\n",
       "    </tr>\n",
       "    <tr>\n",
       "      <th>2</th>\n",
       "      <td>47</td>\n",
       "      <td>52.584035</td>\n",
       "    </tr>\n",
       "    <tr>\n",
       "      <th>3</th>\n",
       "      <td>20</td>\n",
       "      <td>18.025536</td>\n",
       "    </tr>\n",
       "    <tr>\n",
       "      <th>4</th>\n",
       "      <td>41</td>\n",
       "      <td>46.824285</td>\n",
       "    </tr>\n",
       "  </tbody>\n",
       "</table>\n",
       "</div>"
      ],
      "text/plain": [
       "   Actual  Predicted\n",
       "0      25  29.545036\n",
       "1      86  78.502910\n",
       "2      47  52.584035\n",
       "3      20  18.025536\n",
       "4      41  46.824285"
      ]
     },
     "execution_count": 32,
     "metadata": {},
     "output_type": "execute_result"
    }
   ],
   "source": [
    "## Comparing Actual data VS Predicted\n",
    "data_frame = pd.DataFrame({'Actual': y_test, 'Predicted': predict_y})  \n",
    "data_frame"
   ]
  },
  {
   "cell_type": "markdown",
   "id": "f3184be1",
   "metadata": {},
   "source": [
    "### Predicting the score for 8 hour of study"
   ]
  },
  {
   "cell_type": "code",
   "execution_count": 33,
   "id": "a0cac433",
   "metadata": {},
   "outputs": [
    {
     "name": "stdout",
     "output_type": "stream",
     "text": [
      "No of Hours= 8\n",
      "Predicted Score = 80.4228269491064\n"
     ]
    }
   ],
   "source": [
    "# providing hours and using regression model\n",
    "hours = 8\n",
    "prediction = regressor_data.predict([[hours]])\n",
    "print(\"No of Hours=\",hours)\n",
    "print(\"Predicted Score =\",prediction[0])"
   ]
  },
  {
   "cell_type": "markdown",
   "id": "0a3d124c",
   "metadata": {},
   "source": [
    "### Evaluating the model"
   ]
  },
  {
   "cell_type": "code",
   "execution_count": 34,
   "id": "d2bfdd92",
   "metadata": {},
   "outputs": [
    {
     "name": "stdout",
     "output_type": "stream",
     "text": [
      "Mean Absolute Error: 5.084982104170691\n"
     ]
    }
   ],
   "source": [
    "# now we will evaluate performance. we will compare how well different algorithms perform on a particular dataset.\n",
    "# the amount of error in your measurements.we can find that by MEAN ABSOLUTE ERRORS\n",
    "\n",
    "print('Mean Absolute Error:', metrics.mean_absolute_error(y_test,predict_y)) "
   ]
  },
  {
   "cell_type": "markdown",
   "id": "a40f7cc1",
   "metadata": {},
   "source": [
    "## Thank You\n",
    " "
   ]
  }
 ],
 "metadata": {
  "kernelspec": {
   "display_name": "Python 3",
   "language": "python",
   "name": "python3"
  },
  "language_info": {
   "codemirror_mode": {
    "name": "ipython",
    "version": 3
   },
   "file_extension": ".py",
   "mimetype": "text/x-python",
   "name": "python",
   "nbconvert_exporter": "python",
   "pygments_lexer": "ipython3",
   "version": "3.8.8"
  }
 },
 "nbformat": 4,
 "nbformat_minor": 5
}
